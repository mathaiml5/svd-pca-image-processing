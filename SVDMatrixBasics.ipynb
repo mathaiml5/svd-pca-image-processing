{
 "cells": [
  {
   "cell_type": "markdown",
   "metadata": {},
   "source": [
    "# Introduction to Singular Value Decomposition (SVD) & Principal Component Analysis (PCA) "
   ]
  },
  {
   "cell_type": "markdown",
   "metadata": {},
   "source": [
    "### Goals: \n",
    "\n",
    "### 1. Using SVD to invert a matrix : We will create a rectangular matrix A which is a dataset representing 30 variables (columns) and 200 measurements (rows) with Gaussian random data. We will make 1 variable collinear, 30th variable a weighted linear combination of 3 other randomly selected variables and then decompose the matrix using the SVD. Since this matrix X is not invertible, show how SVD can be used to invert the matrix successfully with pseudoinverse \n",
    "\n",
    "### 2. Understanding PCA and calculating the number of significant components in PCA using SVD: We will create a dataset X with 30 variables and 200 measurements using Gaussian random data. We will introduce 2 covariation patterns: for e.g. features 1:5 covary together positively, features 15:20 covary together negatively. Then we perform PCA on this dataset and plot the cumulative variance accounted for (VAF to determine how many PCs does it take to hit 90% of total variance and identify the 2 main PCs. To do this, create a separate matrix, with gaussian data and without covaration. Examine the average VAF as you move from one component to another. This is your threshold, to compare with."
   ]
  },
  {
   "cell_type": "code",
   "execution_count": 232,
   "metadata": {},
   "outputs": [],
   "source": [
    "from scipy import linalg as la\n",
    "from scipy.stats import norm\n",
    "from sklearn import datasets \n",
    "import numpy as np\n",
    "import sys\n",
    "import matplotlib.pyplot as plt\n",
    "import seaborn as sns; sns.set()\n",
    "from sklearn.decomposition import PCA\n",
    "\n",
    "%matplotlib inline"
   ]
  },
  {
   "cell_type": "markdown",
   "metadata": {},
   "source": [
    "## First create a matrix of random numbers\n"
   ]
  },
  {
   "cell_type": "code",
   "execution_count": 233,
   "metadata": {},
   "outputs": [
    {
     "name": "stdout",
     "output_type": "stream",
     "text": [
      "[[0.00866654 0.75593657 0.04328461 0.66723582 0.88083696]\n",
      " [0.68788994 0.03510764 0.69359648 0.96278389 0.09308304]\n",
      " [0.64539752 0.85955971 0.89662984 0.00210265 0.4206644 ]\n",
      " [0.09136963 0.24290064 0.92375518 0.95734299 0.3281947 ]\n",
      " [0.30607999 0.98262376 0.74320248 0.26492611 0.68144658]]\n"
     ]
    }
   ],
   "source": [
    "mat_size = 5\n",
    "A = np.random.rand(mat_size, mat_size)\n",
    "print(A)"
   ]
  },
  {
   "cell_type": "markdown",
   "metadata": {},
   "source": [
    "## Convert numPy array of arrays to matrix and check its dimensions"
   ]
  },
  {
   "cell_type": "code",
   "execution_count": 234,
   "metadata": {},
   "outputs": [
    {
     "name": "stdout",
     "output_type": "stream",
     "text": [
      "(5, 5)\n"
     ]
    }
   ],
   "source": [
    "B = np.asmatrix(A)\n",
    "print(B.shape)"
   ]
  },
  {
   "cell_type": "markdown",
   "metadata": {},
   "source": [
    "## NumPy has function [svd](https://numpy.org/doc/stable/reference/generated/numpy.linalg.svd.html) that can be used to compute the Singular value decomposition of matrix A which factorizes the matrix A into two unitary matrices $U$ and $V^T$, and a 1-D array $s$ of singular values (real, non-negative) such that $A = U S V^T$, where S is a suitably shaped matrix of zeros with main diagonal with values of array s (diagnoal version of array s).  \n",
    "### U = Unitary matrix having left singular vectors as columns. Of shape $(M, K)$\n",
    "### s = NumPy array of singular values, sorted in non-increasing order. Of shape $(K,)$ with $K = min(M, N)$\n",
    "### $V^T$ = Unitary matrix having right singular vectors as rows. Of shape $(K, N)$ "
   ]
  },
  {
   "cell_type": "code",
   "execution_count": 235,
   "metadata": {},
   "outputs": [
    {
     "name": "stdout",
     "output_type": "stream",
     "text": [
      "(5, 5)\n",
      "(5,)\n",
      "(5, 5)\n"
     ]
    }
   ],
   "source": [
    "U, S, V = la.svd(B)\n",
    "print(U.shape)\n",
    "print(S.shape)\n",
    "print(V.shape)"
   ]
  },
  {
   "cell_type": "markdown",
   "metadata": {},
   "source": [
    "## Note: S is an array => need to convert it into a square matrix using Numpy's Diag function"
   ]
  },
  {
   "cell_type": "code",
   "execution_count": 236,
   "metadata": {},
   "outputs": [
    {
     "name": "stdout",
     "output_type": "stream",
     "text": [
      "[2.70078591 1.22018614 0.96145555 0.45279485 0.01960861]\n"
     ]
    },
    {
     "data": {
      "text/plain": [
       "numpy.ndarray"
      ]
     },
     "execution_count": 236,
     "metadata": {},
     "output_type": "execute_result"
    }
   ],
   "source": [
    "print(S)\n",
    "type(S)"
   ]
  },
  {
   "cell_type": "code",
   "execution_count": 237,
   "metadata": {},
   "outputs": [
    {
     "name": "stdout",
     "output_type": "stream",
     "text": [
      "[[2.70078591 0.         0.         0.         0.        ]\n",
      " [0.         1.22018614 0.         0.         0.        ]\n",
      " [0.         0.         0.96145555 0.         0.        ]\n",
      " [0.         0.         0.         0.45279485 0.        ]\n",
      " [0.         0.         0.         0.         0.01960861]]\n"
     ]
    }
   ],
   "source": [
    "S_sq = np.diag(S)\n",
    "print(S_sq)"
   ]
  },
  {
   "cell_type": "markdown",
   "metadata": {},
   "source": [
    "## Compute the inverse of square matrix B as $C = V^{-1} S^{-1} U^T$"
   ]
  },
  {
   "cell_type": "code",
   "execution_count": 238,
   "metadata": {},
   "outputs": [
    {
     "name": "stdout",
     "output_type": "stream",
     "text": [
      "[[  1.90778225  -0.09488252   3.95838527   0.12934279  -4.95888395]\n",
      " [ -8.16086438   6.17861952 -16.51356295  -6.91825886  23.23068384]\n",
      " [  1.54900544  -2.27010249   4.87980414   2.87815791  -6.09067435]\n",
      " [ -3.19295302   3.25683842  -7.64454266  -2.6693004    9.68696876]\n",
      " [ 10.4627382   -7.65708209  19.683998     7.81656214 -26.92644419]]\n"
     ]
    }
   ],
   "source": [
    "C =  V.transpose() @ (la.inv(S_sq) @ U.transpose())\n",
    "print(C)"
   ]
  },
  {
   "cell_type": "markdown",
   "metadata": {},
   "source": [
    " ## If the SVD of square matrix B is correct then $B.C = I_{n}$ where $I_{n}$ is the identity matrix We can check by taking the difference $B.C - I_{n} = 0_n$ and rounding the values. If SVD worked we should get a nxn matrix of zeros!"
   ]
  },
  {
   "cell_type": "code",
   "execution_count": 239,
   "metadata": {},
   "outputs": [
    {
     "name": "stdout",
     "output_type": "stream",
     "text": [
      "[[ 0. -0.  0.  0. -0.]\n",
      " [ 0. -0.  0.  0.  0.]\n",
      " [-0. -0.  0.  0. -0.]\n",
      " [-0. -0.  0.  0. -0.]\n",
      " [-0.  0. -0. -0.  0.]]\n"
     ]
    }
   ],
   "source": [
    "id = B @ C\n",
    "delta = id - np.identity(mat_size)\n",
    "print(delta.round())"
   ]
  },
  {
   "cell_type": "markdown",
   "metadata": {},
   "source": [
    "## Next we create a matrix A where the last column is a linear combination of 3 other columns\n",
    "## Since this matrix does not have all L.I. columns, it will be singular. \n",
    "## We can use this to demonstrate how SVD can be used to perform a matrix inversion like operation."
   ]
  },
  {
   "cell_type": "code",
   "execution_count": 240,
   "metadata": {},
   "outputs": [
    {
     "name": "stdout",
     "output_type": "stream",
     "text": [
      "[[-0.05722078 -0.41706163  0.43838094 ... -0.81973102 -0.17223646\n",
      "  -1.44036665]\n",
      " [-1.03483074 -0.11518117  0.31855248 ... -1.85333811 -0.86814697\n",
      "  -0.73210343]\n",
      " [-0.18065188 -0.12189498 -1.07763493 ...  1.22274064  2.27111465\n",
      "   0.02509031]\n",
      " ...\n",
      " [-1.31623629  0.10464416 -2.3419933  ... -0.14459709  1.23487534\n",
      "  -1.42183102]\n",
      " [ 0.03281447  0.94231287 -0.51121073 ... -0.25516459 -0.91205704\n",
      "   0.25188089]\n",
      " [ 1.30311139 -0.8548659   0.86302615 ...  0.6130283  -0.2525896\n",
      "  -1.29259405]]\n"
     ]
    },
    {
     "data": {
      "text/plain": [
       "(200, 30)"
      ]
     },
     "execution_count": 240,
     "metadata": {},
     "output_type": "execute_result"
    }
   ],
   "source": [
    "mu, sigma = 0, 1 # Set normal distribution parameters\n",
    "nvars, nobs = 30, 200 # Set mnumber of variables and observations\n",
    "A = np.random.randn(nobs, nvars)\n",
    "print(A)\n",
    "A.shape"
   ]
  },
  {
   "cell_type": "code",
   "execution_count": 241,
   "metadata": {},
   "outputs": [
    {
     "name": "stdout",
     "output_type": "stream",
     "text": [
      "We will replace last column of A with linear combination of columns:  [23 21 23]\n",
      "Condition number of matrix A is:  3.882937690539721e+16\n",
      "1/epsilon is :  4503599627370496.0\n",
      "Condition number of matrix A >= 1/epsilon\n",
      "Matrix A is singular!\n"
     ]
    }
   ],
   "source": [
    "linear_comb_coeffs = np.asmatrix([2, 5, 7]).transpose()\n",
    "dependent_cols = np.around(28*np.random.rand(3), decimals=0).astype('int')\n",
    "print(\"We will replace last column of A with linear combination of columns: \", str(dependent_cols))\n",
    "#print(dependent_cols)\n",
    "#print(linear_comb_coeffs)\n",
    "# print(A[:, dependent_cols].shape)\n",
    "# print(linear_comb_coeffs.shape)\n",
    "# We can compute the linear combination of the 3 columns chosen by mutiplying the matrix slice with coeffs column vector\n",
    "x =  np.squeeze(np.asarray(A[:, dependent_cols] @ np.asmatrix(linear_comb_coeffs)))\n",
    "# print(x)\n",
    "# print(x.shape)\n",
    "# y = np.squeeze(np.asarray(x))\n",
    "# print(y.shape)\n",
    "# print(type(y))\n",
    "# print(A[:, -1].shape)\n",
    "# print(type(A[:, -1]))\n",
    "A[:, -1] = x\n",
    "print(\"Condition number of matrix A is: \", np.linalg.cond(A))\n",
    "print(\"1/epsilon is : \", 1/sys.float_info.epsilon)\n",
    "# print(np.spacing)\n",
    "if np.linalg.cond(A) < 1/sys.float_info.epsilon:\n",
    "    i = np.linalg.inv(A)\n",
    "else:\n",
    "    #Singular as expected!\n",
    "    print(\"Condition number of matrix A >= 1/epsilon\") \n",
    "    print(\"Matrix A is singular!\")"
   ]
  },
  {
   "cell_type": "markdown",
   "metadata": {},
   "source": [
    "## To understand how SVD can be used to compute pseudoinverse, we construct a singular matrix and calculate it's SVD. \n",
    "### To create a singular matrix, we replace the last column of A with a linear combination of 3 other columns. Then we check that the new matrix is singular by calculating condition number of matrix A and comparing that with $\\frac{1}{\\epsilon}$ where $\\epsilon$ is the smallest fraction > 0 that can be represented as a float. \n",
    "#### Note: NumPy defines [condition number of x](https://numpy.org/doc/stable/reference/generated/numpy.linalg.cond.html) as the norm of x times the norm of the inverse of x the norm which can be the usual L2-norm (root-of-sum-of-squares) or one of a number of other matrix norms $cond(A) = \\|A\\| \\|A^{-1}\\|$ "
   ]
  },
  {
   "cell_type": "markdown",
   "metadata": {},
   "source": [
    "### Since inverses are only defined for non-singular square matrices, we can compute something similar to an inverse for a rectangular matrix or a singular square matrix called pseudeoinverse or [Moore-Penrose inverse](https://en.wikipedia.org/wiki/Moore%E2%80%93Penrose_inverse). The pseudo-inverse of a matrix A, denoted $A^+$, is defined as the matrix that ‘solves’ the least-squares problem $Ax = b$ i.e., if $\\bar{x}$ is the solution, then $A^+$ is that matrix such that $\\bar{x} = A^+b$.\n",
    "\n",
    "### If $U S V^T = A$ is SVD of matrix A then $A^+ = V^{-1} S^{-1} U^T$, where U, V are orthogonal left and right singular matrices, S is a diagonal matrix consisting of A’s singular values in descening order, $S^{-1}$ is a diagonal matrix consisting of the reciprocals of A’s singular values.\n",
    "\n",
    "#### NumPy has a handy function which computes the pseudoinverse [pinv](https://numpy.org/doc/stable/reference/generated/numpy.linalg.pinv.html)\n",
    "\n",
    "#### Let us compute the pseudoinverse $A^+$ of  rectangular matrix $A$ that we constructed before by setting the last column to be the linear combination of 3 other columns using SVD and pinv functions \n",
    "\n",
    "#### $A^{+}$ exists for any matrix $A$, but, when A has full rank i.e. the rank of A is $\\min\\{m,n\\}$ then $A^{+}$ can be simplified:  When A has linearly independent columns, the pseudeoinvese constitutes a left inverse, since, in this case, $A^{+}A=I$  When A has linearly independent rows, pseudeoinverse is a right inverse because  $AA^{+}=I$."
   ]
  },
  {
   "cell_type": "code",
   "execution_count": 242,
   "metadata": {},
   "outputs": [
    {
     "name": "stdout",
     "output_type": "stream",
     "text": [
      "Shape of matrix A:  (200, 30)\n",
      "Rank of Matrix A  29\n",
      "Shape of U-transpose  (30, 200)\n",
      "Shape of S inverse  (30, 30)\n",
      "Shape of VT-transpose  (30, 30)\n",
      "Shape of A+:  (30, 200)\n",
      "Shape of A.A+.A =  (200, 30)\n",
      "Shape of A+.A.A+ =  (30, 200)\n",
      "Check: A.A+.A = A should be all zeroes : \n",
      " [[-0.  0. -0. ...  0. -0.  0.]\n",
      " [-0.  0. -0. ... -0.  0.  0.]\n",
      " [ 0. -0.  0. ...  0.  0. -0.]\n",
      " ...\n",
      " [-0. -0.  0. ... -0.  0.  0.]\n",
      " [-0.  0. -0. ...  0. -0.  0.]\n",
      " [-0. -0.  0. ...  0. -0. -0.]]\n",
      "Check: A+.A.A+ - A+ should be all zeroes : \n",
      "  [[ 0.00000000e+00 -0.00000000e+00 -0.00000000e+00 ...  0.00000000e+00\n",
      "   0.00000000e+00  0.00000000e+00]\n",
      " [ 0.00000000e+00 -0.00000000e+00 -0.00000000e+00 ...  0.00000000e+00\n",
      "   0.00000000e+00  0.00000000e+00]\n",
      " [ 0.00000000e+00 -0.00000000e+00 -0.00000000e+00 ...  0.00000000e+00\n",
      "   0.00000000e+00  0.00000000e+00]\n",
      " ...\n",
      " [ 0.00000000e+00 -0.00000000e+00 -0.00000000e+00 ...  0.00000000e+00\n",
      "   0.00000000e+00  0.00000000e+00]\n",
      " [-0.00000000e+00  0.00000000e+00  0.00000000e+00 ... -0.00000000e+00\n",
      "  -0.00000000e+00 -0.00000000e+00]\n",
      " [ 8.54428500e+10 -1.36666015e+11 -1.33211964e+10 ...  2.12782889e+10\n",
      "   4.88539221e+09  2.92173194e+10]]\n",
      "Rank of pseudoinverse: 29\n",
      "Check: pinv(A) - A+ should be all zeroes : \n",
      " [[-0. -0. -0. ... -0. -0.  0.]\n",
      " [-0.  0. -0. ... -0. -0.  0.]\n",
      " [ 0.  0.  0. ...  0.  0.  0.]\n",
      " ...\n",
      " [ 0. -0.  0. ...  0.  0. -0.]\n",
      " [-0. -0.  0. ... -0.  0. -0.]\n",
      " [-0.  0. -0. ... -0. -0. -0.]]\n",
      "Check: pinv(A).A  - I should be all zeroes : \n",
      " [[-0. -0. -0. ... -0. -0.  0.]\n",
      " [-0.  0. -0. ... -0. -0.  0.]\n",
      " [ 0.  0.  0. ...  0.  0.  0.]\n",
      " ...\n",
      " [ 0. -0.  0. ...  0.  0. -0.]\n",
      " [-0. -0.  0. ... -0.  0. -0.]\n",
      " [-0.  0. -0. ... -0. -0. -0.]]\n"
     ]
    }
   ],
   "source": [
    "B = np.asmatrix(A)\n",
    "print(\"Shape of matrix A: \", A.shape)\n",
    "print(\"Rank of Matrix A \" , np.linalg.matrix_rank(B))\n",
    "U, S, VT = la.svd(B, full_matrices=False)\n",
    "m,n = A.shape\n",
    "# print(U.shape)\n",
    "# print(S.shape)\n",
    "# print(VT.shape)\n",
    "S_sq = np.diag(S)\n",
    "\n",
    "print(\"Shape of U-transpose \", U.transpose().shape)\n",
    "print(\"Shape of S inverse \", la.inv(S_sq).shape)\n",
    "print(\"Shape of VT-transpose \", VT.transpose().shape)\n",
    "# print(S_sq)\n",
    "B_plus =  np.asmatrix(VT.transpose() @ la.inv(S_sq) @ U.transpose())\n",
    "print(\"Shape of A+: \", B_plus.shape)\n",
    "B_Bplus_B = B @ B_plus @ B\n",
    "Bplus_B_Bplus = B_plus @ B @ B_plus\n",
    "print(\"Shape of A.A+.A = \", B_Bplus_B.shape)\n",
    "print(\"Shape of A+.A.A+ = \",Bplus_B_Bplus.shape)\n",
    "# print(\"A+.A = \\n\", B_plus @ B)\n",
    "# print(\"A.A+ = \\n\", B @ B_plus)\n",
    "delta1 = B_Bplus_B - B\n",
    "print(\"Check: A.A+.A = A should be all zeroes : \\n\", delta1.round())\n",
    "delta2 = Bplus_B_Bplus - B_plus\n",
    "print(\"Check: A+.A.A+ - A+ should be all zeroes : \\n \", delta2.round())\n",
    "P, r = la.pinv2(B, return_rank=True)\n",
    "print(\"Rank of pseudoinverse:\", r)\n",
    "delta3 = B @ P @B - B\n",
    "print(\"Check: pinv(A) - A+ should be all zeroes : \\n\", delta3.round())\n",
    "delta4 = P @ B - np.asmatrix(np.identity(S.shape[0]))\n",
    "print(\"Check: pinv(A).A  - I should be all zeroes : \\n\", delta3.round())"
   ]
  },
  {
   "cell_type": "code",
   "execution_count": 243,
   "metadata": {},
   "outputs": [],
   "source": [
    "# d = 10;    # number of obs\n",
    "# k = 5;      # number of variables\n",
    "\n",
    "# W = np.asmatrix(np.random.rand(d,k))\n",
    "# print(\"W matrix is: \", W)\n",
    "# S = W.transpose() @ W + np.diag(np.asmatrix(np.random.rand(1,k)))\n",
    "# print(\"S matrix is: \", S)\n",
    "# col_corr = np.corrcoef(S)\n",
    "\n",
    "# # S = np.diag(1./np.sqrt(np.diag(S))) * S * np.diag(1./np.sqrt(np.diag(S)))\n",
    "# print(\"Correlation matrix is: \", col_corr)\n",
    "# print(\"Rank of Matrix W \" , np.linalg.matrix_rank(W))"
   ]
  },
  {
   "cell_type": "markdown",
   "metadata": {},
   "source": [
    "## Generating samples from correlated variables requires that the covariance matrix be postive definite and all eigenvalues $\\lambda_i \\ge 0$"
   ]
  },
  {
   "cell_type": "markdown",
   "metadata": {},
   "source": [
    "### To generate correlated normally distributed random samples, one can first generate uncorrelated normally distributed samples, and then multiply them by a matrix C such that $C C^T= R$ where R is the desired covariance matrix. C can be created, for example, by using the Cholesky decomposition of R, or from the eigenvalues and eigenvectors of R.\n",
    "### One approach is to generate positive semi-definite matrix for each group of correlated variables, here num_correlated_vars_block = 5 so each p.s.d matrix wil be 5 x 5 \n",
    "### The symmetric matrix for covariances can be generated using $b_{sym} = \\frac{b+b^T}{2}$ \n",
    "### However, this procedure seems to still generate atleast one $\\lambda_i \\ge 0$ so we have to look at alternate methods"
   ]
  },
  {
   "cell_type": "code",
   "execution_count": 251,
   "metadata": {},
   "outputs": [],
   "source": [
    "# This method does not work \n",
    "# num_samples = 200\n",
    "# num_correlated_vars_block = 5\n",
    "\n",
    "# # # Generate correlation matrix for 5 variables that are correlated\n",
    "# # Below method of using c*c^T =R to generate covariance matrx does not work\n",
    "# p = np.random.uniform(0.7, 1, (num_correlated_vars_block, num_correlated_vars_block))\n",
    "# p = np.random.rand(num_correlated_vars_block,num_correlated_vars_block)\n",
    "# pos_cov_vars = np.dot(p, p.T) \n",
    "# pos_cov_vars = (p + p.T)/2\n",
    "\n",
    "# # # np.fill_diagonal(pos_cov_vars, 1.000)\n",
    "# # # Generate correlation matrix for 5 variables that are highly negatively correlated\n",
    "# n = np.random.uniform(-0.8, -1, (num_correlated_vars_block, num_correlated_vars_block))\n",
    "# # n = np.random.rand(num_correlated_vars_block,num_correlated_vars_block)\n",
    "# np.fill_diagonal(neg_cov_vars, 1.000)\n",
    "\n",
    "# # neg_cov_vars = np.dot(n, n.T) \n",
    "# neg_cov_vars = (n + n.T)/2\n",
    "\n",
    "# # np.fill_diagonal(neg_cov_vars, np.array(-1.0 * np.diagonal(neg_cov_vars)))\n",
    "\n",
    "\n",
    "\n",
    "# # Following code is inspired by SciPy Cookbook recipe: https://scipy-cookbook.readthedocs.io/items/CorrelatedRandomSamples.html \n",
    "\n",
    "# #  Matrices need to be positive semidefinite for eigenvalues to be computable based on random dist. \n",
    "# pos_cov_vars = sklearn.datasets.make_spd_matrix(5, random_state=None)\n",
    "# neg_cov_vars = sklearn.datasets.make_spd_matrix(5, random_state=None)\n",
    "# # print(x_corr_col_set1)\n",
    "\n",
    "\n",
    "# # print(np.linalg.matrix_rank(pos_cov_vars))\n",
    "# # print(np.linalg.matrix_rank(neg_cov_vars))\n",
    "# print(pos_cov_vars)\n",
    "# print(neg_cov_vars)\n",
    "\n",
    "# # Generate samples from 5 independent normally distributed random\n",
    "# # variables (with mean 0 and std. dev. 1).\n",
    "# var_set1 = norm.rvs(size=(num_correlated_vars_block, num_samples))\n",
    "# var_set2 = norm.rvs(size=(num_correlated_vars_block, num_samples))\n",
    "\n",
    "# # print(corr_set1)\n",
    "# # print(corr_set2)\n",
    "\n",
    "\n",
    "\n",
    "# # Compute the eigenvalues and eigenvectors of correlation matrix and create the co-varying columns\n",
    "# # Construct matrix of covarying columns c, so c*c' = r where r = correl matrix\n",
    "# eigenvals_set1, eigen_vecs_set1 = la.eigh(pos_cov_vars)\n",
    "# print(eigenvals_set1)\n",
    "# x_corr_col_set1 = np.dot(eigen_vecs_set1, np.diag(np.sqrt(eigenvals_set1)))\n",
    "\n",
    "# eigenvals_set2, eigen_vecs_set2 = la.eigh(neg_cov_vars)\n",
    "# print(eigenvals_set2)\n",
    "# x_corr_col_set2 = np.dot(eigen_vecs_set2, np.diag(np.sqrt(eigenvals_set2)))\n",
    "# # print(x_corr_col_set1)\n",
    "# # print(x_corr_col_set2)\n",
    "\n",
    "# # L1 = la.cholesky(pos_cov_vars)\n",
    "# # print(L1)\n",
    "\n",
    "# # L2 = la.cholesky(neg_cov_vars)\n",
    "# # print(L2)\n",
    "\n",
    "# # x_corr_col_set1 = L1\n",
    "# # x_corr_col_set2 = L2\n",
    "\n",
    "# xblock_1 = np.dot(x_corr_col_set1, var_set1).T\n",
    "# # print(xblock_1.shape)\n",
    "# print(np.corrcoef(xblock_1))\n",
    "\n",
    "\n",
    "# xblock_2 = np.dot(x_corr_col_set2, var_set2).T\n",
    "# # print(xblock_2.shape)\n",
    "# print(np.corrcoef(xblock_2))\n",
    "\n",
    "\n"
   ]
  },
  {
   "cell_type": "markdown",
   "metadata": {},
   "source": [
    "## Part 2: PCA and SVD - Dimensionality reduction\n",
    "### We will create a dataset X with 30 variables and 200 measurements using Gaussian random data. We will introduce 2 covariation patterns: for e.g. features 1:5 covary, features 15:20 covary together with high correlations (0.9+).\n",
    "### Note: It is not always possible to create very highly negatively correlated variables easily. For n variables in this highly negatively correlated blocks some of the eigenvalues become negative which means the covariance matirx is not positive definitve and it cannot be decomposed. In general, if we have p variables that are highly negatively correlated,the negative correlation of any 2 variables has to be between $[\\frac{-1}{(n-1)}, 1]$ For example, for 5 variables the most negative the correlation can go is -0.25"
   ]
  },
  {
   "cell_type": "code",
   "execution_count": 257,
   "metadata": {},
   "outputs": [
    {
     "name": "stdout",
     "output_type": "stream",
     "text": [
      "[1.93837068e+01 3.97188111e-02 1.30888189e-02 3.63204647e-03\n",
      " 4.93261560e-05]\n",
      "[[4.10880607 3.91326724 3.88041923 4.16953217 3.85830588]\n",
      " [3.91326724 3.75431042 3.70720113 3.95747862 3.67950141]\n",
      " [3.88041923 3.70720113 3.68703096 3.94186184 3.65783481]\n",
      " [4.16953217 3.95747862 3.94186184 4.25310441 3.92639214]\n",
      " [3.85830588 3.67950141 3.65783481 3.92639214 3.6369439 ]]\n",
      "[[1.         0.99668002 0.99935031 0.99685067 0.99912521]\n",
      " [0.99668002 1.         0.99512454 0.98738815 0.9931405 ]\n",
      " [0.99935031 0.99512454 1.         0.99751507 0.9995445 ]\n",
      " [0.99685067 0.98738815 0.99751507 1.         0.99905069]\n",
      " [0.99912521 0.9931405  0.9995445  0.99905069 1.        ]]\n",
      "[1.95274443e+01 2.26968817e-02 1.17399318e-02 2.65644753e-04\n",
      " 1.30620651e-03]\n",
      "[[3.89444778 3.81284699 3.94200629 3.91194393 3.92812624]\n",
      " [3.81284699 3.74304139 3.85233094 3.83518619 3.84221011]\n",
      " [3.94200629 3.85233094 4.00652441 3.96691476 3.98542225]\n",
      " [3.91194393 3.83518619 3.96691476 3.95083029 3.9527665 ]\n",
      " [3.92812624 3.84221011 3.98542225 3.9527665  3.96860909]]\n",
      "[[1.         0.99696964 0.99858396 0.9896114  0.99930228]\n",
      " [0.99696964 1.         0.99485798 0.9967472  0.9974358 ]\n",
      " [0.99858396 0.99485798 1.         0.99019171 0.99952046]\n",
      " [0.9896114  0.9967472  0.99019171 1.         0.99294707]\n",
      " [0.99930228 0.9974358  0.99952046 0.99294707 1.        ]]\n",
      "(200, 5)\n",
      "[[1.         0.99673348 0.99650477 0.99732649 0.99790101]\n",
      " [0.99673348 1.         0.99651383 0.9908614  0.99585314]\n",
      " [0.99650477 0.99651383 1.         0.99523678 0.9988599 ]\n",
      " [0.99732649 0.9908614  0.99523678 1.         0.99836399]\n",
      " [0.99790101 0.99585314 0.9988599  0.99836399 1.        ]]\n",
      "(200, 5)\n",
      "[[1.         0.99859423 0.9981776  0.99773046 0.99928463]\n",
      " [0.99859423 1.         0.99485289 0.99765342 0.99686775]\n",
      " [0.9981776  0.99485289 1.         0.99726824 0.99953935]\n",
      " [0.99773046 0.99765342 0.99726824 1.         0.99836596]\n",
      " [0.99928463 0.99686775 0.99953935 0.99836596 1.        ]]\n"
     ]
    }
   ],
   "source": [
    "#  Create a group of 5 highly correlated variables\n",
    "p = np.random.uniform(0.75, 1.0, (num_correlated_vars_block, num_correlated_vars_block))\n",
    "p_mat = np.dot(p, p.T)\n",
    "print(np.linalg.eigvals(p_mat))\n",
    "print(p_mat)\n",
    "print(np.corrcoef(p_mat))\n",
    "\n",
    "# Create another group of highly correlated variables\n",
    "# Note it is not possible to create very highly negatively correlated variables \n",
    "# For n variables in this highly negatively correlated blocks some of the eigenvalues become negative which means the covariance matirx is not positive definitve and it cannot be decomposed\n",
    "# In general with n variables, the negative correlation of any 2 variables has to be between [-1/(n-1), 1]. For example, for 5 variables the most negative the correlation can go is -0.25\n",
    "n = np.random.uniform(0.8, 1.0, (num_correlated_vars_block, num_correlated_vars_block))\n",
    "n_mat = np.dot(n, n.T)\n",
    "# np.fill_diagonal(n_mat, 1)\n",
    "print(np.linalg.eigvals(n_mat))\n",
    "print(n_mat)\n",
    "print(np.corrcoef(n_mat))\n",
    "\n",
    "\n",
    "samples = 200\n",
    "data_block1 = np.random.multivariate_normal([0, 0, 0, 0, 0], p_mat, size=samples)\n",
    "print(data_block1.shape)\n",
    "print(np.corrcoef(data_block1.T))\n",
    "\n",
    "data_block2 = np.random.multivariate_normal([0, 0, 0, 0, 0], n_mat, size=samples)\n",
    "print(data_block2.shape)\n",
    "print(np.corrcoef(data_block2.T))\n",
    "\n",
    "nvars, nobs = 30, 200 # Set mnumber of variables and observations\n",
    "X = np.random.randn(nobs, nvars)\n",
    "X.shape\n",
    "\n",
    "X[:, 4:9] = data_block1\n",
    "X[:, 14:19] = data_block2\n",
    "\n",
    "# print(np.corrcoef(X.T))\n"
   ]
  },
  {
   "cell_type": "markdown",
   "metadata": {},
   "source": [
    "## Perform PCA on the X matrix with covarying columns"
   ]
  },
  {
   "cell_type": "code",
   "execution_count": 258,
   "metadata": {},
   "outputs": [
    {
     "name": "stdout",
     "output_type": "stream",
     "text": [
      "[0.35831329 0.67623453 0.70336205 0.728595   0.75190738 0.77381364\n",
      " 0.79557171 0.81520418 0.83403917 0.85169758 0.86868181 0.88470951\n",
      " 0.90042635 0.91431254 0.92754249 0.93992619 0.95122785 0.96201968\n",
      " 0.97233951 0.98186948 0.99058927 0.9986181  0.99917917 0.99955943\n",
      " 0.9997706  0.99993666 0.99997755 0.99999543 0.99999939 1.        ]\n"
     ]
    },
    {
     "data": {
      "image/png": "[encoded data removed]",
      "text/plain": [
       "<Figure size 432x288 with 1 Axes>"
      ]
     },
     "metadata": {
      "needs_background": "light"
     },
     "output_type": "display_data"
    }
   ],
   "source": [
    "\n",
    "pca_y = PCA().fit(X)\n",
    "var_expl = np.cumsum(pca_y.explained_variance_ratio_)\n",
    "plt.plot(var_expl)\n",
    "plt.xlabel('number of components')\n",
    "plt.ylabel('cumulative explained variance');\n",
    "plt.title('PCA on data with 2 sets of 5 covarying variables out of 30 variables')\n",
    "print(var_expl)"
   ]
  },
  {
   "cell_type": "markdown",
   "metadata": {},
   "source": [
    "## Create a baseline matrix Y with random normal but uncorrelated variables"
   ]
  },
  {
   "cell_type": "code",
   "execution_count": 256,
   "metadata": {},
   "outputs": [
    {
     "name": "stdout",
     "output_type": "stream",
     "text": [
      "[0.06262929 0.12036952 0.17692946 0.22764802 0.27794804 0.32432236\n",
      " 0.37004599 0.41220567 0.45404162 0.49382087 0.53175747 0.56859282\n",
      " 0.60443654 0.63762517 0.66848928 0.69873055 0.7271215  0.7543709\n",
      " 0.78074835 0.80612409 0.83081194 0.8543147  0.87693518 0.89818918\n",
      " 0.91834858 0.9369852  0.95505068 0.9720183  0.98640572 1.        ]\n"
     ]
    },
    {
     "data": {
      "image/png": "[encoded data removed]",
      "text/plain": [
       "<Figure size 432x288 with 1 Axes>"
      ]
     },
     "metadata": {
      "needs_background": "light"
     },
     "output_type": "display_data"
    }
   ],
   "source": [
    "nvars, nobs = 30, 200 # Set mnumber of variables and observations\n",
    "Y = np.random.randn(nobs, nvars)\n",
    "Y.shape\n",
    "\n",
    "# print(np.corrcoef(Y))\n",
    "\n",
    "pca_y = PCA().fit(Y)\n",
    "var_exp2 = np.cumsum(pca_y.explained_variance_ratio_)\n",
    "plt.plot(var_exp2)\n",
    "plt.xlabel('number of components')\n",
    "plt.ylabel('cumulative explained variance');\n",
    "plt.title('PCA on data with no covarying variables out of 30 variables')\n",
    "print(var_exp2)"
   ]
  },
  {
   "cell_type": "markdown",
   "metadata": {},
   "source": [
    "## Conclusion\n",
    "## Comparing the variance explained plots, we can clearly see that PCA has reduced the dimensionality of the problem: Over 65% of the variation can be explained by just 2 Principal components while 90% of the variation in the data is explained by only 13 PCs. For the uncorrelated dataset! 90% variation is explained by 25 PCs, clearly showing the gains with dimensionalty reduction"
   ]
  },
  {
   "cell_type": "code",
   "execution_count": 221,
   "metadata": {},
   "outputs": [],
   "source": [
    "#  Example to create 2 covarying normal random variables with specified correlations\n",
    "# samples = 200\n",
    "# r = 0.9\n",
    "\n",
    "# # Generate pearson correlated data with approximately cor(X, Y) = r\n",
    "# import numpy as np\n",
    "# data = np.random.multivariate_normal([0, 0], [[1, r], [r, 1]], size=samples)\n",
    "# P, Q = data[:,0], data[:,1]\n",
    "# print(P, Q)\n",
    "# # That's it! Now let's take a look at the actual correlation:\n",
    "# import scipy.stats as stats\n",
    "# print ('r=', stats.pearsonr(P, Q)[0])"
   ]
  },
  {
   "cell_type": "code",
   "execution_count": null,
   "metadata": {},
   "outputs": [],
   "source": []
  }
 ],
 "metadata": {
  "kernelspec": {
   "display_name": "Python 3",
   "language": "python",
   "name": "python3"
  },
  "language_info": {
   "codemirror_mode": {
    "name": "ipython",
    "version": 3
   },
   "file_extension": ".py",
   "mimetype": "text/x-python",
   "name": "python",
   "nbconvert_exporter": "python",
   "pygments_lexer": "ipython3",
   "version": "3.7.7"
  }
 },
 "nbformat": 4,
 "nbformat_minor": 4
}
