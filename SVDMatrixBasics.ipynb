{
 "cells": [
  {
   "cell_type": "markdown",
   "metadata": {},
   "source": [
    "# Introduction to Singular Value Decomposition (SVD) & Principal Component Analysis (PCA) "
   ]
  },
  {
   "cell_type": "markdown",
   "metadata": {},
   "source": [
    "### Goals: \n",
    "\n",
    "### 1. Using SVD to invert a matrix : We will create a rectangular matrix A which is a dataset representing 30 variables (columns) and 200 measurements (rows) with Gaussian random data. We will make 1 variable collinear, 30th variable a weighted linear combination of 3 other randomly selected variables and then decompose the matrix using the SVD. Since this matrix X is not invertible, show how SVD can be used to invert the matrix successfully with pseudoinverse \n",
    "\n",
    "### 2. Understanding PCA and calculating the number of significant components in PCA using SVD: We will create a dataset X with 30 variables and 200 measurements using Gaussian random data. We will introduce 2 covariation patterns: for e.g. features 1:5 covary together positively, features 15:20 covary together negatively. Then we perform PCA on this dataset and plot the cumulative variance accounted for (VAF to determine how many PCs does it take to hit 90% of total variance and identify the 2 main PCs. To do this, create a separate matrix, with gaussian data and without covaration. Examine the average VAF as you move from one component to another. This is your threshold, to compare with."
   ]
  },
  {
   "cell_type": "code",
   "execution_count": 155,
   "metadata": {},
   "outputs": [],
   "source": [
    "from scipy import linalg as la\n",
    "from scipy.stats import norm\n",
    "from sklearn import datasets \n",
    "import numpy as np\n",
    "import sys\n",
    "import matplotlib.pyplot as plt\n",
    "import seaborn as sns; sns.set()\n",
    "from sklearn.decomposition import PCA\n",
    "\n",
    "%matplotlib inline"
   ]
  },
  {
   "cell_type": "markdown",
   "metadata": {},
   "source": [
    "## First create a matrix of random numbers\n"
   ]
  },
  {
   "cell_type": "code",
   "execution_count": 2,
   "metadata": {},
   "outputs": [
    {
     "name": "stdout",
     "output_type": "stream",
     "text": [
      "[[0.92230752 0.23166073 0.77845305 0.81647326 0.57581382]\n",
      " [0.72182043 0.61275106 0.61789177 0.47114376 0.41490367]\n",
      " [0.69154764 0.06607639 0.02313438 0.80485042 0.42086236]\n",
      " [0.49024169 0.87104186 0.59242235 0.00140397 0.05570451]\n",
      " [0.10374096 0.16382193 0.88330802 0.3756295  0.83277618]]\n"
     ]
    }
   ],
   "source": [
    "mat_size = 5\n",
    "A = np.random.rand(mat_size, mat_size)\n",
    "print(A)"
   ]
  },
  {
   "cell_type": "markdown",
   "metadata": {},
   "source": [
    "## Convert numPy array of arrays to matrix and check its dimensions"
   ]
  },
  {
   "cell_type": "code",
   "execution_count": 3,
   "metadata": {},
   "outputs": [
    {
     "name": "stdout",
     "output_type": "stream",
     "text": [
      "(5, 5)\n"
     ]
    }
   ],
   "source": [
    "B = np.asmatrix(A)\n",
    "print(B.shape)"
   ]
  },
  {
   "cell_type": "markdown",
   "metadata": {},
   "source": [
    "## NumPy has function [svd](https://numpy.org/doc/stable/reference/generated/numpy.linalg.svd.html) that can be used to compute the Singular value decomposition of matrix A which factorizes the matrix A into two unitary matrices $U$ and $V^T$, and a 1-D array $s$ of singular values (real, non-negative) such that $A = U S V^T$, where S is a suitably shaped matrix of zeros with main diagonal with values of array s (diagnoal version of array s).  \n",
    "### U = Unitary matrix having left singular vectors as columns. Of shape $(M, K)$\n",
    "### s = NumPy array of singular values, sorted in non-increasing order. Of shape $(K,)$ with $K = min(M, N)$\n",
    "### $V^T$ = Unitary matrix having right singular vectors as rows. Of shape $(K, N)$ "
   ]
  },
  {
   "cell_type": "code",
   "execution_count": 4,
   "metadata": {},
   "outputs": [
    {
     "name": "stdout",
     "output_type": "stream",
     "text": [
      "(5, 5)\n",
      "(5,)\n",
      "(5, 5)\n"
     ]
    }
   ],
   "source": [
    "U, S, V = la.svd(B)\n",
    "print(U.shape)\n",
    "print(S.shape)\n",
    "print(V.shape)"
   ]
  },
  {
   "cell_type": "markdown",
   "metadata": {},
   "source": [
    "## Note: S is an array => need to convert it into a square matrix using Numpy's Diag function"
   ]
  },
  {
   "cell_type": "code",
   "execution_count": 5,
   "metadata": {},
   "outputs": [
    {
     "name": "stdout",
     "output_type": "stream",
     "text": [
      "[2.59604192 1.00221742 0.83255049 0.23934884 0.01453252]\n"
     ]
    },
    {
     "data": {
      "text/plain": [
       "numpy.ndarray"
      ]
     },
     "execution_count": 5,
     "metadata": {},
     "output_type": "execute_result"
    }
   ],
   "source": [
    "print(S)\n",
    "type(S)"
   ]
  },
  {
   "cell_type": "code",
   "execution_count": 6,
   "metadata": {},
   "outputs": [
    {
     "name": "stdout",
     "output_type": "stream",
     "text": [
      "[[2.59604192 0.         0.         0.         0.        ]\n",
      " [0.         1.00221742 0.         0.         0.        ]\n",
      " [0.         0.         0.83255049 0.         0.        ]\n",
      " [0.         0.         0.         0.23934884 0.        ]\n",
      " [0.         0.         0.         0.         0.01453252]]\n"
     ]
    }
   ],
   "source": [
    "S_sq = np.diag(S)\n",
    "print(S_sq)"
   ]
  },
  {
   "cell_type": "markdown",
   "metadata": {},
   "source": [
    "## Compute the inverse of square matrix B as $C = V^{-1} S^{-1} U^T$"
   ]
  },
  {
   "cell_type": "code",
   "execution_count": 7,
   "metadata": {},
   "outputs": [
    {
     "name": "stdout",
     "output_type": "stream",
     "text": [
      "[[ -2.86903649  27.48989651 -10.74448739 -16.78987433  -5.15913661]\n",
      " [ -0.2910393   -9.46103876   4.90774137   7.14063983   1.95701407]\n",
      " [  3.30257218 -11.28101101   2.47261623   6.55988614   1.64848597]\n",
      " [  5.24644875 -36.58812454  14.62660638  22.15655241   5.72730301]\n",
      " [ -5.45475999  26.90552922  -8.84705761 -16.26493506  -2.87334455]]\n"
     ]
    }
   ],
   "source": [
    "C =  V.transpose() @ (la.inv(S_sq) @ U.transpose())\n",
    "print(C)"
   ]
  },
  {
   "cell_type": "markdown",
   "metadata": {},
   "source": [
    " ## If the SVD of square matrix B is correct then $B.C = I_{n}$ where $I_{n}$ is the identity matrix We can check by taking the difference $B.C = I_{n}$ and rounding the values. If SVD worked we should get a nxn matrix of zeros!"
   ]
  },
  {
   "cell_type": "code",
   "execution_count": 8,
   "metadata": {},
   "outputs": [
    {
     "name": "stdout",
     "output_type": "stream",
     "text": [
      "[[ 0. -0.  0.  0.  0.]\n",
      " [ 0. -0.  0.  0.  0.]\n",
      " [ 0. -0.  0.  0.  0.]\n",
      " [-0.  0. -0. -0. -0.]\n",
      " [ 0.  0. -0. -0. -0.]]\n"
     ]
    }
   ],
   "source": [
    "id = B @ C\n",
    "delta = id - np.identity(mat_size)\n",
    "print(delta.round())"
   ]
  },
  {
   "cell_type": "markdown",
   "metadata": {},
   "source": [
    "## Next we create a matrix A where the last column is a linear combination of 3 other columns\n",
    "## Since this matrix does not have all L.I. columns, it will be singular. \n",
    "## We can use this to demonstrate how SVD can be used to perform a matrix inversion like operation."
   ]
  },
  {
   "cell_type": "code",
   "execution_count": 10,
   "metadata": {},
   "outputs": [
    {
     "name": "stdout",
     "output_type": "stream",
     "text": [
      "[[-1.53255995  1.01394829 -0.81638438 ... -1.20476328 -1.23932402\n",
      "  -0.07897511]\n",
      " [ 0.23575957  0.75685611 -0.40489012 ...  0.1972835  -0.17412388\n",
      "  -0.4943598 ]\n",
      " [ 0.85790775  0.91804364 -0.9979622  ...  0.03917134 -1.25212883\n",
      "   0.26916223]\n",
      " ...\n",
      " [-0.22453532  0.89158564 -1.19185987 ... -0.63781024 -0.37858396\n",
      "  -0.27939358]\n",
      " [ 0.73943808 -1.33537744 -1.78603962 ... -0.82478106 -0.59209596\n",
      "   1.37743224]\n",
      " [-1.08884393 -0.2265798   0.71318464 ... -0.41598884  1.37834049\n",
      "  -0.64133464]]\n"
     ]
    },
    {
     "data": {
      "text/plain": [
       "(200, 30)"
      ]
     },
     "execution_count": 10,
     "metadata": {},
     "output_type": "execute_result"
    }
   ],
   "source": [
    "mu, sigma = 0, 1 # Set normal distribution parameters\n",
    "nvars, nobs = 30, 200 # Set mnumber of variables and observations\n",
    "A = np.random.randn(nobs, nvars)\n",
    "print(A)\n",
    "A.shape"
   ]
  },
  {
   "cell_type": "markdown",
   "metadata": {},
   "source": [
    "## To understand how SVD can be used to compute pseudoinverse, we construct a singular matrix and calculate it's SVD. \n",
    "### To create a singular matrix, we replace the last column of A with a linear combination of 3 other columns. Then we check that the new matrix is singular by calculating condition number of matrix A and comparing that with $\\frac{1}{\\epsilon}$ where $\\epsilon$ is the smallest fraction > 0 that can be represented as a float. \n",
    "#### Note: NumPy defines [condition number of x](https://numpy.org/doc/stable/reference/generated/numpy.linalg.cond.html) as the norm of x times the norm of the inverse of x the norm which can be the usual L2-norm (root-of-sum-of-squares) or one of a number of other matrix norms $cond(A) = \\|A\\| \\|A^{-1}\\|$ "
   ]
  },
  {
   "cell_type": "code",
   "execution_count": 11,
   "metadata": {},
   "outputs": [
    {
     "name": "stdout",
     "output_type": "stream",
     "text": [
      "We will replace last column of A with linear combination of columns:  [ 7  9 11]\n",
      "Condition number of matrix A is:  3.0954525122540144e+16\n",
      "1/epsilon is :  4503599627370496.0\n",
      "Condition number of matrix A >= 1/epsilon\n",
      "Matrix A is singular!\n"
     ]
    }
   ],
   "source": [
    "linear_comb_coeffs = np.asmatrix([2, 5, 7]).transpose()\n",
    "dependent_cols = np.around(28*np.random.rand(3), decimals=0).astype('int')\n",
    "print(\"We will replace last column of A with linear combination of columns: \", str(dependent_cols))\n",
    "#print(dependent_cols)\n",
    "#print(linear_comb_coeffs)\n",
    "# print(A[:, dependent_cols].shape)\n",
    "# print(linear_comb_coeffs.shape)\n",
    "# We can compute the linear combination of the 3 columns chosen by mutiplying the matrix slice with coeffs column vector\n",
    "x =  np.squeeze(np.asarray(A[:, dependent_cols] @ np.asmatrix(linear_comb_coeffs)))\n",
    "# print(x)\n",
    "# print(x.shape)\n",
    "# y = np.squeeze(np.asarray(x))\n",
    "# print(y.shape)\n",
    "# print(type(y))\n",
    "# print(A[:, -1].shape)\n",
    "# print(type(A[:, -1]))\n",
    "A[:, -1] = x\n",
    "print(\"Condition number of matrix A is: \", np.linalg.cond(A))\n",
    "print(\"1/epsilon is : \", 1/sys.float_info.epsilon)\n",
    "# print(np.spacing)\n",
    "if np.linalg.cond(A) < 1/sys.float_info.epsilon:\n",
    "    i = np.linalg.inv(A)\n",
    "else:\n",
    "    #Singular as expected!\n",
    "    print(\"Condition number of matrix A >= 1/epsilon\") \n",
    "    print(\"Matrix A is singular!\")"
   ]
  },
  {
   "cell_type": "markdown",
   "metadata": {},
   "source": [
    "### Since inverses are only defined for non-singular square matrices, we can compute something similar to an inverse for a rectangular matrix or a singular square matrix called pseudeoinverse or [Moore-Penrose inverse](https://en.wikipedia.org/wiki/Moore%E2%80%93Penrose_inverse). The pseudo-inverse of a matrix A, denoted $A^+$, is defined as the matrix that ‘solves’ the least-squares problem $Ax = b$ i.e., if $\\bar{x}$ is the solution, then $A^+$ is that matrix such that $\\bar{x} = A^+b$.\n",
    "\n",
    "### If $U S V^T = A$ is SVD of matrix A then $A^+ = V^{-1} S^{-1} U^T$, where U, V are orthogonal left and right singular matrices, S is a diagonal matrix consisting of A’s singular values in descening order, $S^{-1}$ is a diagonal matrix consisting of the reciprocals of A’s singular values.\n",
    "\n",
    "#### NumPy has a handy function which computes the pseudoinverse [pinv](https://numpy.org/doc/stable/reference/generated/numpy.linalg.pinv.html)\n",
    "\n",
    "#### Let us compute the pseudoinverse $A^+$ of  rectangular matrix $A$ that we constructed before by setting the last column to be the linear combination of 3 other columns using SVD and pinv functions \n",
    "\n",
    "#### $A^{+}$ exists for any matrix $A$, but, when A has full rank i.e. the rank of A is $\\min\\{m,n\\}$ then $A^{+}$ can be simplified:  When A has linearly independent columns, the pseudeoinvese constitutes a left inverse, since, in this case, $A^{+}A=I$  When A has linearly independent rows, pseudeoinverse is a right inverse because  $AA^{+}=I$."
   ]
  },
  {
   "cell_type": "code",
   "execution_count": 39,
   "metadata": {},
   "outputs": [
    {
     "name": "stdout",
     "output_type": "stream",
     "text": [
      "Shape of matrix A:  (200, 30)\n",
      "Rank of Matrix A  29\n",
      "Shape of U-transpose  (30, 200)\n",
      "Shape of S inverse  (30, 30)\n",
      "Shape of VT-transpose  (30, 30)\n",
      "Shape of A+:  (30, 200)\n",
      "Shape of A.A+.A =  (200, 30)\n",
      "Shape of A+.A.A+ =  (30, 200)\n",
      "Check: A.A+.A = A should be all zeroes : \n",
      " [[-0.  0.  0. ...  0. -0. -0.]\n",
      " [-0. -0. -0. ... -0. -0.  0.]\n",
      " [-0. -0. -0. ... -0.  0.  0.]\n",
      " ...\n",
      " [-0.  0. -0. ... -0.  0. -0.]\n",
      " [-0.  0. -0. ... -0.  0. -0.]\n",
      " [-0. -0. -0. ... -0. -0. -0.]]\n",
      "Check: A+.A.A+ - A+ should be all zeroes : \n",
      "  [[-0.00000000e+00  0.00000000e+00 -0.00000000e+00 ...  0.00000000e+00\n",
      "  -0.00000000e+00  0.00000000e+00]\n",
      " [-0.00000000e+00  0.00000000e+00 -0.00000000e+00 ...  0.00000000e+00\n",
      "  -0.00000000e+00  0.00000000e+00]\n",
      " [ 0.00000000e+00 -0.00000000e+00  0.00000000e+00 ... -0.00000000e+00\n",
      "   0.00000000e+00 -0.00000000e+00]\n",
      " ...\n",
      " [-0.00000000e+00  0.00000000e+00 -0.00000000e+00 ...  0.00000000e+00\n",
      "  -0.00000000e+00  0.00000000e+00]\n",
      " [ 0.00000000e+00 -0.00000000e+00  0.00000000e+00 ... -0.00000000e+00\n",
      "   0.00000000e+00 -0.00000000e+00]\n",
      " [ 5.79253429e+10 -7.27034290e+10  4.03189254e+11 ... -1.73144615e+11\n",
      "   1.02976301e+10 -9.38604862e+09]]\n",
      "Rank of pseudoinverse: 29\n",
      "Check: pinv(A) - A+ should be all zeroes : \n",
      " [[-0.  0.  0. ... -0. -0.  0.]\n",
      " [-0.  0.  0. ...  0.  0.  0.]\n",
      " [ 0.  0.  0. ...  0. -0.  0.]\n",
      " ...\n",
      " [-0.  0.  0. ... -0. -0.  0.]\n",
      " [ 0.  0.  0. ... -0. -0.  0.]\n",
      " [ 0.  0.  0. ...  0.  0.  0.]]\n",
      "Check: pinv(A).A  - I should be all zeroes : \n",
      " [[-0.  0.  0. ... -0. -0.  0.]\n",
      " [-0.  0.  0. ...  0.  0.  0.]\n",
      " [ 0.  0.  0. ...  0. -0.  0.]\n",
      " ...\n",
      " [-0.  0.  0. ... -0. -0.  0.]\n",
      " [ 0.  0.  0. ... -0. -0.  0.]\n",
      " [ 0.  0.  0. ...  0.  0.  0.]]\n"
     ]
    }
   ],
   "source": [
    "B = np.asmatrix(A)\n",
    "print(\"Shape of matrix A: \", A.shape)\n",
    "print(\"Rank of Matrix A \" , np.linalg.matrix_rank(B))\n",
    "U, S, VT = la.svd(B, full_matrices=False)\n",
    "m,n = A.shape\n",
    "# print(U.shape)\n",
    "# print(S.shape)\n",
    "# print(VT.shape)\n",
    "S_sq = np.diag(S)\n",
    "\n",
    "print(\"Shape of U-transpose \", U.transpose().shape)\n",
    "print(\"Shape of S inverse \", la.inv(S_sq).shape)\n",
    "print(\"Shape of VT-transpose \", VT.transpose().shape)\n",
    "# print(S_sq)\n",
    "B_plus =  np.asmatrix(VT.transpose() @ la.inv(S_sq) @ U.transpose())\n",
    "print(\"Shape of A+: \", B_plus.shape)\n",
    "B_Bplus_B = B @ B_plus @ B\n",
    "Bplus_B_Bplus = B_plus @ B @ B_plus\n",
    "print(\"Shape of A.A+.A = \", B_Bplus_B.shape)\n",
    "print(\"Shape of A+.A.A+ = \",Bplus_B_Bplus.shape)\n",
    "# print(\"A+.A = \\n\", B_plus @ B)\n",
    "# print(\"A.A+ = \\n\", B @ B_plus)\n",
    "delta1 = B_Bplus_B - B\n",
    "print(\"Check: A.A+.A = A should be all zeroes : \\n\", delta1.round())\n",
    "delta2 = Bplus_B_Bplus - B_plus\n",
    "print(\"Check: A+.A.A+ - A+ should be all zeroes : \\n \", delta2.round())\n",
    "P, r = la.pinv2(B, return_rank=True)\n",
    "print(\"Rank of pseudoinverse:\", r)\n",
    "delta3 = B @ P @B - B\n",
    "print(\"Check: pinv(A) - A+ should be all zeroes : \\n\", delta3.round())\n",
    "delta4 = P @ B - np.asmatrix(np.identity(S.shape[0]))\n",
    "print(\"Check: pinv(A).A  - I should be all zeroes : \\n\", delta3.round())"
   ]
  },
  {
   "cell_type": "code",
   "execution_count": null,
   "metadata": {},
   "outputs": [],
   "source": []
  },
  {
   "cell_type": "code",
   "execution_count": 219,
   "metadata": {},
   "outputs": [],
   "source": [
    "# d = 10;    # number of obs\n",
    "# k = 5;      # number of variables\n",
    "\n",
    "# W = np.asmatrix(np.random.rand(d,k))\n",
    "# print(\"W matrix is: \", W)\n",
    "# S = W.transpose() @ W + np.diag(np.asmatrix(np.random.rand(1,k)))\n",
    "# print(\"S matrix is: \", S)\n",
    "# col_corr = np.corrcoef(S)\n",
    "\n",
    "# # S = np.diag(1./np.sqrt(np.diag(S))) * S * np.diag(1./np.sqrt(np.diag(S)))\n",
    "# print(\"Correlation matrix is: \", col_corr)\n",
    "# print(\"Rank of Matrix W \" , np.linalg.matrix_rank(W))"
   ]
  },
  {
   "cell_type": "markdown",
   "metadata": {},
   "source": [
    "### To generate correlated normally distributed random samples, one can first generate uncorrelated normally distributed samples, and then multiply them by a matrix C such that $C C^T= R$ where R is the desired covariance matrix. C can be created, for example, by using the Cholesky decomposition of R, or from the eigenvalues and eigenvectors of R.\n",
    "### First we generate positive semi-definite matrix for each group of correlated variables, here num_correlated_vars_block = 5 so each p.s.d matrix wil be 5 x 5 \n",
    "### The symmetric matrix for covariances can be generated using $b_{sym} = \\frac{b+b^T}{2}$ "
   ]
  },
  {
   "cell_type": "code",
   "execution_count": 220,
   "metadata": {},
   "outputs": [],
   "source": [
    "# This method does not work \n",
    "# num_samples = 200\n",
    "# num_correlated_vars_block = 5\n",
    "\n",
    "# # # Generate correlation matrix for 5 variables that are correlated\n",
    "# # Below method of using c*c^T =R to generate covariance matrx does not work\n",
    "# # p = np.random.uniform(10, 20, (num_correlated_vars_block, num_correlated_vars_block))\n",
    "# # p = np.random.rand(num_correlated_vars_block,num_correlated_vars_block)\n",
    "# # pos_cov_vars = np.dot(p, p.T) \n",
    "# # pos_cov_vars = (p + p.T)/2\n",
    "\n",
    "# # # np.fill_diagonal(pos_cov_vars, 1.000)\n",
    "# # # Generate correlation matrix for 5 variables that are highly negatively correlated\n",
    "# # n = np.random.uniform(-20, -10, (num_correlated_vars_block, num_correlated_vars_block))\n",
    "# # n = np.random.rand(num_correlated_vars_block,num_correlated_vars_block)\n",
    "# # # np.fill_diagonal(neg_cov_vars, 1.000)\n",
    "\n",
    "# # neg_cov_vars = np.dot(n, n.T) \n",
    "# # neg_cov_vars = (n + n.T)/2\n",
    "\n",
    "# # np.fill_diagonal(neg_cov_vars, np.array(-1.0 * np.diagonal(neg_cov_vars)))\n",
    "\n",
    "\n",
    "\n",
    "# # Following code is inspired by SciPy Cookbook recipe: https://scipy-cookbook.readthedocs.io/items/CorrelatedRandomSamples.html \n",
    "\n",
    "# #  Matrices need to be positive semidefinite for eigenvalues to be computable based on random dist. \n",
    "# pos_cov_vars = sklearn.datasets.make_spd_matrix(5, random_state=None)\n",
    "# neg_cov_vars = sklearn.datasets.make_spd_matrix(5, random_state=None)\n",
    "# # print(x_corr_col_set1)\n",
    "\n",
    "\n",
    "# # print(np.linalg.matrix_rank(pos_cov_vars))\n",
    "# # print(np.linalg.matrix_rank(neg_cov_vars))\n",
    "# print(pos_cov_vars)\n",
    "# print(neg_cov_vars)\n",
    "\n",
    "# # Generate samples from 5 independent normally distributed random\n",
    "# # variables (with mean 0 and std. dev. 1).\n",
    "# var_set1 = norm.rvs(size=(num_correlated_vars_block, num_samples))\n",
    "# var_set2 = norm.rvs(size=(num_correlated_vars_block, num_samples))\n",
    "\n",
    "# # print(corr_set1)\n",
    "# # print(corr_set2)\n",
    "\n",
    "\n",
    "\n",
    "# # Compute the eigenvalues and eigenvectors of correlation matrix and create the co-varying columns\n",
    "# # Construct matrix of covarying columns c, so c*c' = r where r = correl matrix\n",
    "# eigenvals_set1, eigen_vecs_set1 = la.eigh(pos_cov_vars)\n",
    "# # print(eigenvals_set1)\n",
    "# x_corr_col_set1 = np.dot(eigen_vecs_set1, np.diag(np.sqrt(eigenvals_set1)))\n",
    "\n",
    "# eigenvals_set2, eigen_vecs_set2 = la.eigh(neg_cov_vars)\n",
    "# # print(eigenvals_set2)\n",
    "# x_corr_col_set2 = np.dot(eigen_vecs_set2, np.diag(np.sqrt(eigenvals_set2)))\n",
    "# # print(x_corr_col_set1)\n",
    "# # print(x_corr_col_set2)\n",
    "\n",
    "# # L1 = la.cholesky(pos_cov_vars)\n",
    "# # print(L1)\n",
    "\n",
    "# # L2 = la.cholesky(neg_cov_vars)\n",
    "# # print(L2)\n",
    "\n",
    "# # x_corr_col_set1 = L1\n",
    "# # x_corr_col_set2 = L2\n",
    "\n",
    "# xblock_1 = np.dot(x_corr_col_set1, var_set1).T\n",
    "# # print(xblock_1.shape)\n",
    "# print(np.corrcoef(y1))\n",
    "\n",
    "\n",
    "# xblock_2 = np.dot(x_corr_col_set2, var_set2).T\n",
    "# # print(xblock_2.shape)\n",
    "# print(np.corrcoef(y2))\n",
    "\n",
    "\n"
   ]
  },
  {
   "cell_type": "markdown",
   "metadata": {},
   "source": [
    "### We will create a dataset X with 30 variables and 200 measurements using Gaussian random data. We will introduce 2 covariation patterns: for e.g. features 1:5 covary, features 15:20 covary together with high correlations (0.9+)."
   ]
  },
  {
   "cell_type": "code",
   "execution_count": 224,
   "metadata": {},
   "outputs": [
    {
     "name": "stdout",
     "output_type": "stream",
     "text": [
      "[1.99048279e+01 3.84798013e-02 1.61954691e-02 4.10825672e-04\n",
      " 4.62105944e-03]\n",
      "[[3.72110517 3.84931853 3.80919809 3.92116123 3.92305361]\n",
      " [3.84931853 4.03272022 3.9665031  4.06266904 4.06231053]\n",
      " [3.80919809 3.9665031  3.91906136 4.0154425  4.01764776]\n",
      " [3.92116123 4.06266904 4.0154425  4.15425074 4.13287151]\n",
      " [3.92305361 4.06231053 4.01764776 4.13287151 4.13739754]]\n",
      "[[1.         0.97214472 0.99007286 0.99599769 0.99975796]\n",
      " [0.97214472 1.         0.99456293 0.96788914 0.97638484]\n",
      " [0.99007286 0.99456293 1.         0.98489661 0.99246438]\n",
      " [0.99599769 0.96788914 0.98489661 1.         0.99479471]\n",
      " [0.99975796 0.97638484 0.99246438 0.99479471 1.        ]]\n",
      "[1.85170515e+01 8.13082093e-02 4.42274106e-02 3.08326032e-03\n",
      " 1.10464735e-02]\n",
      "[[3.62986367 3.41311035 3.7487694  3.72167293 3.76117577]\n",
      " [3.41311035 3.22928753 3.53830093 3.52198299 3.54291325]\n",
      " [3.7487694  3.53830093 3.92059826 3.86966871 3.8747332 ]\n",
      " [3.72167293 3.52198299 3.86966871 3.93864276 3.90918041]\n",
      " [3.76117577 3.54291325 3.8747332  3.90918041 3.93832459]]\n",
      "[[1.         0.99770501 0.98916455 0.96753206 0.98734771]\n",
      " [0.99770501 1.         0.99298029 0.97929144 0.98985601]\n",
      " [0.98916455 0.99298029 1.         0.96142982 0.96691921]\n",
      " [0.96753206 0.97929144 0.96142982 1.         0.98928706]\n",
      " [0.98734771 0.98985601 0.96691921 0.98928706 1.        ]]\n",
      "(200, 5)\n",
      "[[1.         0.99348914 0.99730594 0.99730287 0.99983799]\n",
      " [0.99348914 1.         0.9978332  0.99260603 0.99420635]\n",
      " [0.99730594 0.9978332  1.         0.9952293  0.99750715]\n",
      " [0.99730287 0.99260603 0.9952293  1.         0.99683987]\n",
      " [0.99983799 0.99420635 0.99750715 0.99683987 1.        ]]\n",
      "(200, 5)\n",
      "[[1.         0.99671766 0.99374594 0.97971209 0.99316638]\n",
      " [0.99671766 1.         0.99413037 0.98536555 0.99309464]\n",
      " [0.99374594 0.99413037 1.         0.98084208 0.98512807]\n",
      " [0.97971209 0.98536555 0.98084208 1.         0.99194375]\n",
      " [0.99316638 0.99309464 0.98512807 0.99194375 1.        ]]\n"
     ]
    }
   ],
   "source": [
    "#  Create a group of 5 highly correlated variables\n",
    "p = np.random.uniform(0.8, 1.0, (num_correlated_vars_block, num_correlated_vars_block))\n",
    "p_mat = np.dot(p, p.T)\n",
    "print(np.linalg.eigvals(p_mat))\n",
    "print(p_mat)\n",
    "print(np.corrcoef(p_mat))\n",
    "\n",
    "# Create another group of highly correlated variables\n",
    "# Note it is not possible to create very highly negatively correlated variables \n",
    "# For n variables in this highly negatively correlated blocks some of the eigenvalues become negative which means the covariance matirx is not positive definitve and it cannot be decomposed\n",
    "# In general with n variables, the negative correlation of any 2 variables has to be between [-1/(n-1), 1]. For example, for 5 variables the most negative the correlation can go is -0.25\n",
    "n = np.random.uniform(0.7, 1.0, (num_correlated_vars_block, num_correlated_vars_block))\n",
    "n_mat = np.dot(n, n.T)\n",
    "# np.fill_diagonal(n_mat, 1)\n",
    "print(np.linalg.eigvals(n_mat))\n",
    "print(n_mat)\n",
    "print(np.corrcoef(n_mat))\n",
    "\n",
    "\n",
    "samples = 200\n",
    "data_block1 = np.random.multivariate_normal([0, 0, 0, 0, 0], p_mat, size=samples)\n",
    "print(data_block1.shape)\n",
    "print(np.corrcoef(data_block1.T))\n",
    "\n",
    "data_block2 = np.random.multivariate_normal([0, 0, 0, 0, 0], n_mat, size=samples)\n",
    "print(data_block2.shape)\n",
    "print(np.corrcoef(data_block2.T))\n",
    "\n",
    "nvars, nobs = 30, 200 # Set mnumber of variables and observations\n",
    "X = np.random.randn(nobs, nvars)\n",
    "X.shape\n",
    "\n",
    "X[:, 4:9] = data_block1\n",
    "X[:, 14:19] = data_block2\n",
    "\n",
    "# print(np.corrcoef(X.T))\n"
   ]
  },
  {
   "cell_type": "markdown",
   "metadata": {},
   "source": [
    "## Perform PCA on the X matrix with covarying columns"
   ]
  },
  {
   "cell_type": "code",
   "execution_count": 230,
   "metadata": {},
   "outputs": [
    {
     "name": "stdout",
     "output_type": "stream",
     "text": [
      "[0.3684249  0.66127983 0.68868922 0.71499971 0.73839642 0.76132768\n",
      " 0.78326236 0.80393008 0.82367578 0.84242422 0.86003583 0.87679819\n",
      " 0.89295915 0.90795242 0.9222449  0.93578149 0.94756115 0.95901175\n",
      " 0.96955632 0.97947658 0.98878478 0.99668982 0.99818412 0.99888411\n",
      " 0.99947061 0.9997242  0.99987535 0.99994918 0.99999386 1.        ]\n"
     ]
    },
    {
     "data": {
      "image/png": "[encoded data removed]",
      "text/plain": [
       "<Figure size 432x288 with 1 Axes>"
      ]
     },
     "metadata": {
      "needs_background": "light"
     },
     "output_type": "display_data"
    }
   ],
   "source": [
    "\n",
    "pca_y = PCA().fit(X)\n",
    "var_expl = np.cumsum(pca_y.explained_variance_ratio_)\n",
    "plt.plot(var_expl)\n",
    "plt.xlabel('number of components')\n",
    "plt.ylabel('cumulative explained variance');\n",
    "plt.title('PCA on data with 2 sets of 5 covarying variables out of 30 variables')\n",
    "print(var_expl)"
   ]
  },
  {
   "cell_type": "markdown",
   "metadata": {},
   "source": [
    "## Create a baseline matrix Y with random normal but uncorrelated variables"
   ]
  },
  {
   "cell_type": "code",
   "execution_count": 231,
   "metadata": {},
   "outputs": [
    {
     "name": "stdout",
     "output_type": "stream",
     "text": [
      "[0.06165437 0.11807284 0.173657   0.2268642  0.27856314 0.3253179\n",
      " 0.37035965 0.41211918 0.45259797 0.49156531 0.52895787 0.56469595\n",
      " 0.59913557 0.63247769 0.66443067 0.69510156 0.72452811 0.75250104\n",
      " 0.77989285 0.80587898 0.83163241 0.85518543 0.87709467 0.89864523\n",
      " 0.91891179 0.93785694 0.95654679 0.9729001  0.98789358 1.        ]\n"
     ]
    },
    {
     "data": {
      "image/png": "[encoded data removed]",
      "text/plain": [
       "<Figure size 432x288 with 1 Axes>"
      ]
     },
     "metadata": {
      "needs_background": "light"
     },
     "output_type": "display_data"
    }
   ],
   "source": [
    "nvars, nobs = 30, 200 # Set mnumber of variables and observations\n",
    "Y = np.random.randn(nobs, nvars)\n",
    "Y.shape\n",
    "\n",
    "# print(np.corrcoef(Y))\n",
    "\n",
    "pca_y = PCA().fit(Y)\n",
    "var_exp2 = np.cumsum(pca_y.explained_variance_ratio_)\n",
    "plt.plot(var_exp2)\n",
    "plt.xlabel('number of components')\n",
    "plt.ylabel('cumulative explained variance');\n",
    "plt.title('PCA on data with no covarying variables out of 30 variables')\n",
    "print(var_exp2)"
   ]
  },
  {
   "cell_type": "markdown",
   "metadata": {},
   "source": [
    "### Comparing the variance explained plots, we can clearly see that PCA has reduced the dimensionality of the problem: Over 65% of the variation can be explained by just 2 Principal components while 90% of the variation in the data is explained by only 13 PCs. For the uncorrelated dataset, 90% variation is explained by 25 PCs, clearly showing the gains with dimensionalty reduction"
   ]
  },
  {
   "cell_type": "code",
   "execution_count": 221,
   "metadata": {},
   "outputs": [],
   "source": [
    "#  Example to create 2 covarying normal random variables with specified correlations\n",
    "# samples = 200\n",
    "# r = 0.9\n",
    "\n",
    "# # Generate pearson correlated data with approximately cor(X, Y) = r\n",
    "# import numpy as np\n",
    "# data = np.random.multivariate_normal([0, 0], [[1, r], [r, 1]], size=samples)\n",
    "# P, Q = data[:,0], data[:,1]\n",
    "# print(P, Q)\n",
    "# # That's it! Now let's take a look at the actual correlation:\n",
    "# import scipy.stats as stats\n",
    "# print ('r=', stats.pearsonr(P, Q)[0])"
   ]
  },
  {
   "cell_type": "code",
   "execution_count": null,
   "metadata": {},
   "outputs": [],
   "source": []
  }
 ],
 "metadata": {
  "kernelspec": {
   "display_name": "Python 3",
   "language": "python",
   "name": "python3"
  },
  "language_info": {
   "codemirror_mode": {
    "name": "ipython",
    "version": 3
   },
   "file_extension": ".py",
   "mimetype": "text/x-python",
   "name": "python",
   "nbconvert_exporter": "python",
   "pygments_lexer": "ipython3",
   "version": "3.7.7"
  }
 },
 "nbformat": 4,
 "nbformat_minor": 4
}
